{
 "cells": [
  {
   "cell_type": "markdown",
   "metadata": {
    "deletable": true,
    "editable": true
   },
   "source": [
    "# Library loading"
   ]
  },
  {
   "cell_type": "code",
   "execution_count": null,
   "metadata": {
    "collapsed": true,
    "deletable": true,
    "editable": true,
    "scrolled": true
   },
   "outputs": [],
   "source": [
    "import torch\n",
    "import torch.utils.data\n",
    "\n",
    "import pandas as pd\n",
    "\n",
    "import matplotlib\n",
    "import matplotlib.pyplot as plt\n",
    "\n",
    "from network.data_utils import clean_data, process_data, encode_seqs, SingleTensorDataset\n",
    "from network.nn import train_nn, make_predictions\n",
    "\n",
    "%matplotlib inline\n",
    "%load_ext autoreload\n",
    "%autoreload 2"
   ]
  },
  {
   "cell_type": "markdown",
   "metadata": {
    "deletable": true,
    "editable": true
   },
   "source": [
    "# Reading in data"
   ]
  },
  {
   "cell_type": "code",
   "execution_count": null,
   "metadata": {
    "collapsed": false,
    "deletable": true,
    "editable": true,
    "scrolled": false
   },
   "outputs": [],
   "source": [
    "# Read the Cbf1 rep1 dataset\n",
    "cbf1_rep1 = clean_data('data/cbf1_rep1_counts.txt')"
   ]
  },
  {
   "cell_type": "code",
   "execution_count": null,
   "metadata": {
    "collapsed": false,
    "deletable": true,
    "editable": true,
    "scrolled": false
   },
   "outputs": [],
   "source": [
    "# Read the Cbf1 rep2 dataset\n",
    "cbf1_rep2 = clean_data('data/cbf1_rep2_counts.txt')"
   ]
  },
  {
   "cell_type": "code",
   "execution_count": null,
   "metadata": {
    "collapsed": false,
    "deletable": true,
    "editable": true,
    "scrolled": false
   },
   "outputs": [],
   "source": [
    "# Read the Cbf1 rep3 dataset\n",
    "cbf1_rep3 = clean_data('data/cbf1_rep3_counts.txt')"
   ]
  },
  {
   "cell_type": "code",
   "execution_count": null,
   "metadata": {
    "collapsed": false,
    "deletable": true,
    "editable": true,
    "scrolled": false
   },
   "outputs": [],
   "source": [
    "# Read Pho4 rep 1 dataset\n",
    "pho4_rep1 = clean_data('data/pho4_rep1_counts.txt')"
   ]
  },
  {
   "cell_type": "code",
   "execution_count": null,
   "metadata": {
    "collapsed": false,
    "deletable": true,
    "editable": true,
    "scrolled": false
   },
   "outputs": [],
   "source": [
    "# Read Pho4 rep 2 dataset\n",
    "pho4_rep2 = clean_data('data/pho4_rep2_counts.txt')"
   ]
  },
  {
   "cell_type": "code",
   "execution_count": null,
   "metadata": {
    "collapsed": false,
    "deletable": true,
    "editable": true,
    "scrolled": false
   },
   "outputs": [],
   "source": [
    "# Read Pho4 rep 3 dataset\n",
    "pho4_rep3 = clean_data('data/pho4_rep3_counts.txt')"
   ]
  },
  {
   "cell_type": "code",
   "execution_count": null,
   "metadata": {
    "collapsed": false,
    "deletable": true,
    "editable": true,
    "scrolled": false
   },
   "outputs": [],
   "source": [
    "# Read Pho4 rep 4 dataset\n",
    "pho4_rep4 = clean_data('data/pho4_rep4_counts.txt')"
   ]
  },
  {
   "cell_type": "code",
   "execution_count": null,
   "metadata": {
    "collapsed": true,
    "deletable": true,
    "editable": true
   },
   "outputs": [],
   "source": [
    "# Combine all replicates into a master dataset\n",
    "cbf1 = pd.concat([cbf1_rep1, cbf1_rep2, cbf1_rep3])\n",
    "pho4 = pd.concat([pho4_rep1, pho4_rep2, pho4_rep3, pho4_rep4])"
   ]
  },
  {
   "cell_type": "markdown",
   "metadata": {
    "deletable": true,
    "editable": true
   },
   "source": [
    "## Create training dataset loaders"
   ]
  },
  {
   "cell_type": "code",
   "execution_count": null,
   "metadata": {
    "collapsed": true,
    "deletable": true,
    "editable": true,
    "scrolled": true
   },
   "outputs": [],
   "source": [
    "# Load Cbf1 rep1 data\n",
    "cbf1_rep1_train, cbf1_rep1_val, cbf1_rep1_test = process_data(cbf1_rep1, 256,\n",
    "                                                              \"./data/train_seqs.txt\",\n",
    "                                                              \"./data/val_seqs.txt\",\n",
    "                                                              \"./data/test_seqs.txt\")"
   ]
  },
  {
   "cell_type": "code",
   "execution_count": null,
   "metadata": {
    "collapsed": true,
    "deletable": true,
    "editable": true,
    "scrolled": true
   },
   "outputs": [],
   "source": [
    "# Load Cbf1 rep2 data\n",
    "cbf1_rep2_train, cbf1_rep2_val, cbf1_rep2_test = process_data(cbf1_rep2, 256,\n",
    "                                                              \"./data/train_seqs.txt\",\n",
    "                                                              \"./data/val_seqs.txt\",\n",
    "                                                              \"./data/test_seqs.txt\")"
   ]
  },
  {
   "cell_type": "code",
   "execution_count": null,
   "metadata": {
    "collapsed": true,
    "deletable": true,
    "editable": true,
    "scrolled": true
   },
   "outputs": [],
   "source": [
    "# Load Cbf1 rep3 data\n",
    "cbf1_rep3_train, cbf1_rep3_val, cbf1_rep3_test = process_data(cbf1_rep3, 256,\n",
    "                                                              \"./data/train_seqs.txt\",\n",
    "                                                              \"./data/val_seqs.txt\",\n",
    "                                                              \"./data/test_seqs.txt\")"
   ]
  },
  {
   "cell_type": "code",
   "execution_count": null,
   "metadata": {
    "collapsed": true,
    "deletable": true,
    "editable": true,
    "scrolled": true
   },
   "outputs": [],
   "source": [
    "# Load Pho4 rep 1 data\n",
    "pho4_rep1_train, pho4_rep1_val, pho4_rep1_test = process_data(pho4_rep1, 256,\n",
    "                                                              \"./data/train_seqs.txt\",\n",
    "                                                              \"./data/val_seqs.txt\",\n",
    "                                                              \"./data/test_seqs.txt\")"
   ]
  },
  {
   "cell_type": "code",
   "execution_count": null,
   "metadata": {
    "collapsed": true,
    "deletable": true,
    "editable": true,
    "scrolled": true
   },
   "outputs": [],
   "source": [
    "# Load Pho4 rep 2 data\n",
    "pho4_rep2_train, pho4_rep2_val, pho4_rep2_test = process_data(pho4_rep2, 256,\n",
    "                                                              \"./data/train_seqs.txt\",\n",
    "                                                              \"./data/val_seqs.txt\",\n",
    "                                                              \"./data/test_seqs.txt\")"
   ]
  },
  {
   "cell_type": "code",
   "execution_count": null,
   "metadata": {
    "collapsed": true,
    "deletable": true,
    "editable": true,
    "scrolled": true
   },
   "outputs": [],
   "source": [
    "# Load Pho4 rep 3 data\n",
    "pho4_rep3_train, pho4_rep3_val, pho4_rep3_test = process_data(pho4_rep3, 256,\n",
    "                                                              \"./data/train_seqs.txt\",\n",
    "                                                              \"./data/val_seqs.txt\",\n",
    "                                                              \"./data/test_seqs.txt\")"
   ]
  },
  {
   "cell_type": "code",
   "execution_count": null,
   "metadata": {
    "collapsed": true,
    "deletable": true,
    "editable": true,
    "scrolled": true
   },
   "outputs": [],
   "source": [
    "# Load Pho4 rep 4 data\n",
    "pho4_rep4_train, pho4_rep4_val, pho4_rep4_test = process_data(pho4_rep4, 256,\n",
    "                                                              \"./data/train_seqs.txt\",\n",
    "                                                              \"./data/val_seqs.txt\",\n",
    "                                                              \"./data/test_seqs.txt\")"
   ]
  },
  {
   "cell_type": "code",
   "execution_count": null,
   "metadata": {
    "collapsed": true,
    "deletable": true,
    "editable": true
   },
   "outputs": [],
   "source": [
    "# Load complete Cbf1 data\n",
    "cbf1_train, cbf1_val, cbf1_test = process_data(cbf1, 256,\n",
    "                                               \"./data/train_seqs.txt\",\n",
    "                                               \"./data/val_seqs.txt\",\n",
    "                                               \"./data/test_seqs.txt\")"
   ]
  },
  {
   "cell_type": "code",
   "execution_count": null,
   "metadata": {
    "collapsed": true,
    "deletable": true,
    "editable": true
   },
   "outputs": [],
   "source": [
    "# Load complete Pho4 data\n",
    "pho4_train, pho4_val, pho4_test = process_data(pho4, 256,\n",
    "                                               \"./data/train_seqs.txt\",\n",
    "                                               \"./data/val_seqs.txt\",\n",
    "                                               \"./data/test_seqs.txt\")"
   ]
  },
  {
   "cell_type": "markdown",
   "metadata": {
    "deletable": true,
    "editable": true
   },
   "source": [
    "## Create complete dataset loaders"
   ]
  },
  {
   "cell_type": "code",
   "execution_count": null,
   "metadata": {
    "collapsed": true,
    "deletable": true,
    "editable": true,
    "scrolled": true
   },
   "outputs": [],
   "source": [
    "# Open the file containing all possible 10-mer sequences and read in\n",
    "with open('data/predict_input.txt', 'r') as predict_file:\n",
    "    seqs = predict_file.readlines()\n",
    "    seqs = [seq.strip() for seq in seqs]\n",
    "    all_sequences = seqs\n",
    "    \n",
    "# Encode all sequences and construct the DataLoader\n",
    "seqs = encode_seqs(seqs)\n",
    "all_seqs_dataset = SingleTensorDataset(seqs)\n",
    "prediction_loader = torch.utils.data.DataLoader(all_seqs_dataset,\n",
    "                                                batch_size=256,\n",
    "                                                shuffle=False)"
   ]
  },
  {
   "cell_type": "markdown",
   "metadata": {
    "deletable": true,
    "editable": true
   },
   "source": [
    "# Training individual models"
   ]
  },
  {
   "cell_type": "code",
   "execution_count": null,
   "metadata": {
    "collapsed": true,
    "deletable": true,
    "editable": true,
    "scrolled": true
   },
   "outputs": [],
   "source": [
    "cbf1_rep1_model = train_nn(cbf1_rep1_train, cbf1_rep1_val, prediction_loader,\n",
    "                           './models/cbf1_rep1_model.acc', lr=1e-3, max_epochs=100)\n",
    "torch.save(cbf1_rep1_model.state_dict(), './models/cbf1_rep1_model_params.torch')"
   ]
  },
  {
   "cell_type": "code",
   "execution_count": null,
   "metadata": {
    "collapsed": true,
    "deletable": true,
    "editable": true,
    "scrolled": true
   },
   "outputs": [],
   "source": [
    "cbf1_rep2_model = train_nn(cbf1_rep2_train, cbf1_rep2_val, prediction_loader,\n",
    "                           './models/cbf1_rep2_model.acc', lr=1e-3, max_epochs=100)\n",
    "torch.save(cbf1_rep2_model.state_dict(), './models/cbf1_rep2_model_params.torch')"
   ]
  },
  {
   "cell_type": "code",
   "execution_count": null,
   "metadata": {
    "collapsed": true,
    "deletable": true,
    "editable": true,
    "scrolled": false
   },
   "outputs": [],
   "source": [
    "cbf1_rep3_model = train_nn(cbf1_rep3_train, cbf1_rep3_val, prediction_loader,\n",
    "                           './models/cbf1_rep3_model.acc', lr=1e-3, max_epochs=100)\n",
    "torch.save(cbf1_rep3_model.state_dict(), './models/cbf1_rep3_model_params.torch')"
   ]
  },
  {
   "cell_type": "code",
   "execution_count": null,
   "metadata": {
    "collapsed": true,
    "deletable": true,
    "editable": true,
    "scrolled": true
   },
   "outputs": [],
   "source": [
    "pho4_rep1_model = train_nn(pho4_rep1_train, pho4_rep1_val, prediction_loader,\n",
    "                           './models/pho4_rep1_model.acc', lr=1e-3, max_epochs=100)\n",
    "torch.save(pho4_rep1_model.state_dict(), './models/pho4_rep1_model_params.torch')"
   ]
  },
  {
   "cell_type": "code",
   "execution_count": null,
   "metadata": {
    "collapsed": true,
    "deletable": true,
    "editable": true,
    "scrolled": true
   },
   "outputs": [],
   "source": [
    "pho4_rep2_model = train_nn(pho4_rep2_train, pho4_rep2_val, prediction_loader,\n",
    "                           './models/pho4_rep2_model.acc', lr=1e-3, max_epochs=100)\n",
    "torch.save(pho4_rep2_model.state_dict(), './models/pho4_rep2_model_params.torch')"
   ]
  },
  {
   "cell_type": "code",
   "execution_count": null,
   "metadata": {
    "collapsed": false,
    "deletable": true,
    "editable": true,
    "scrolled": true
   },
   "outputs": [],
   "source": [
    "pho4_rep3_model = train_nn(pho4_rep3_train, pho4_rep3_val, prediction_loader,\n",
    "                           './models/pho4_rep3_model.acc', lr=1e-3, max_epochs=100)\n",
    "torch.save(pho4_rep3_model.state_dict(), './models/pho4_rep3_model_params.torch')"
   ]
  },
  {
   "cell_type": "code",
   "execution_count": null,
   "metadata": {
    "collapsed": true,
    "deletable": true,
    "editable": true,
    "scrolled": true
   },
   "outputs": [],
   "source": [
    "pho4_rep4_model = train_nn(pho4_rep4_train, pho4_rep4_val, prediction_loader,\n",
    "                           './models/pho4_rep4_model.acc', lr=1e-3, max_epochs=100)\n",
    "torch.save(pho4_rep4_model.state_dict(), './models/pho4_rep4_model_params.torch')"
   ]
  },
  {
   "cell_type": "markdown",
   "metadata": {},
   "source": [
    "# Training composite models"
   ]
  },
  {
   "cell_type": "code",
   "execution_count": null,
   "metadata": {
    "collapsed": false,
    "deletable": true,
    "editable": true,
    "scrolled": true
   },
   "outputs": [],
   "source": [
    "cbf1_model = train_nn(cbf1_train, cbf1_val, prediction_loader,\n",
    "                      './models/cbf1_model.acc', lr=1e-3, max_epochs=100)\n",
    "torch.save(cbf1_model.state_dict(), './models/cbf1_model_params.torch')"
   ]
  },
  {
   "cell_type": "code",
   "execution_count": null,
   "metadata": {
    "collapsed": false,
    "deletable": true,
    "editable": true,
    "scrolled": true
   },
   "outputs": [],
   "source": [
    "pho4_model = train_nn(pho4_train, pho4_val, prediction_loader,\n",
    "                      './models/pho4_model.acc', lr = 1e-3, max_epochs = 100)\n",
    "torch.save(pho4_model.state_dict(), './models/pho4_model_params.torch')"
   ]
  },
  {
   "cell_type": "markdown",
   "metadata": {
    "deletable": true,
    "editable": true
   },
   "source": [
    "# Generating full prediction sets"
   ]
  },
  {
   "cell_type": "code",
   "execution_count": null,
   "metadata": {
    "collapsed": true,
    "deletable": true,
    "editable": true,
    "scrolled": true
   },
   "outputs": [],
   "source": [
    "cbf1_rep1_preds = make_predictions('./models/cbf1_rep1_model_params.torch', prediction_loader)\n",
    "plt.hist(cbf1_rep1_preds, 30, alpha=0.75)\n",
    "plt.xlabel(r'$\\Delta \\Delta G$')\n",
    "plt.ylabel('Count')\n",
    "plt.show()"
   ]
  },
  {
   "cell_type": "code",
   "execution_count": null,
   "metadata": {
    "collapsed": true,
    "deletable": true,
    "editable": true,
    "scrolled": true
   },
   "outputs": [],
   "source": [
    "cbf1_rep2_preds = make_predictions('./models/cbf1_rep2_model_params.torch', prediction_loader)\n",
    "plt.hist(cbf1_rep2_preds, 30, alpha=0.75)\n",
    "plt.xlabel(r'$\\Delta \\Delta G$')\n",
    "plt.ylabel('Count')\n",
    "plt.show()"
   ]
  },
  {
   "cell_type": "code",
   "execution_count": null,
   "metadata": {
    "collapsed": true,
    "deletable": true,
    "editable": true,
    "scrolled": true
   },
   "outputs": [],
   "source": [
    "cbf1_rep3_preds = make_predictions('./models/cbf1_rep3_model_params.torch', prediction_loader)\n",
    "plt.hist(cbf1_rep3_preds, 30, alpha=0.75)\n",
    "plt.xlabel(r'$\\Delta \\Delta G$')\n",
    "plt.ylabel('Count')\n",
    "plt.show()"
   ]
  },
  {
   "cell_type": "code",
   "execution_count": null,
   "metadata": {
    "collapsed": true,
    "deletable": true,
    "editable": true,
    "scrolled": true
   },
   "outputs": [],
   "source": [
    "pho4_rep1_preds = make_predictions('./models/pho4_rep1_model_params.torch', prediction_loader)\n",
    "plt.hist(pho4_rep1_preds, 30, alpha=0.75)\n",
    "plt.xlabel(r'$\\Delta \\Delta G$')\n",
    "plt.ylabel('Count')\n",
    "plt.show()"
   ]
  },
  {
   "cell_type": "code",
   "execution_count": null,
   "metadata": {
    "collapsed": true,
    "deletable": true,
    "editable": true,
    "scrolled": true
   },
   "outputs": [],
   "source": [
    "pho4_rep2_preds = make_predictions('./models/pho4_rep2_model_params.torch', prediction_loader)\n",
    "plt.hist(pho4_rep2_preds, 30, alpha=0.75)\n",
    "plt.xlabel(r'$\\Delta \\Delta G$')\n",
    "plt.ylabel('Count')\n",
    "plt.show()"
   ]
  },
  {
   "cell_type": "code",
   "execution_count": null,
   "metadata": {
    "collapsed": true,
    "deletable": true,
    "editable": true,
    "scrolled": true
   },
   "outputs": [],
   "source": [
    "pho4_rep3_preds = make_predictions('./models/pho4_rep3_model_params.torch', prediction_loader)\n",
    "plt.hist(pho4_rep3_preds, 30, alpha=0.75)\n",
    "plt.xlabel(r'$\\Delta \\Delta G$')\n",
    "plt.ylabel('Count')\n",
    "plt.show()"
   ]
  },
  {
   "cell_type": "code",
   "execution_count": null,
   "metadata": {
    "collapsed": true,
    "deletable": true,
    "editable": true,
    "scrolled": true
   },
   "outputs": [],
   "source": [
    "pho4_rep4_preds = make_predictions('./models/pho4_rep4_model_params.torch', prediction_loader)\n",
    "plt.hist(pho4_rep4_preds, 30, alpha=0.75)\n",
    "plt.xlabel(r'$\\Delta \\Delta G$')\n",
    "plt.ylabel('Count')\n",
    "plt.show()"
   ]
  },
  {
   "cell_type": "code",
   "execution_count": null,
   "metadata": {
    "collapsed": false,
    "deletable": true,
    "editable": true,
    "scrolled": true
   },
   "outputs": [],
   "source": [
    "cbf1_preds = make_predictions('./models/cbf1_model_params.torch', prediction_loader)\n",
    "plt.hist(cbf1_preds, 30, alpha=0.75)\n",
    "plt.xlabel(r'$\\Delta \\Delta G$')\n",
    "plt.ylabel('Count')\n",
    "plt.show()"
   ]
  },
  {
   "cell_type": "code",
   "execution_count": null,
   "metadata": {
    "collapsed": false,
    "deletable": true,
    "editable": true,
    "scrolled": true
   },
   "outputs": [],
   "source": [
    "pho4_preds = make_predictions('./models/pho4_model_params.torch', prediction_loader)\n",
    "plt.hist(pho4_preds, 30, alpha=0.75)\n",
    "plt.xlabel(r'$\\Delta \\Delta G$')\n",
    "plt.ylabel('Count')\n",
    "plt.show()"
   ]
  },
  {
   "cell_type": "markdown",
   "metadata": {},
   "source": [
    "# Plot the predicted values"
   ]
  },
  {
   "cell_type": "code",
   "execution_count": null,
   "metadata": {
    "collapsed": true,
    "deletable": true,
    "editable": true,
    "scrolled": true
   },
   "outputs": [],
   "source": [
    "fig, axs = plt.subplots(2, 6, sharey=True, figsize=(7, 4))\n",
    "fig.subplots_adjust(hspace=0.9, left=0.07, right=2.3)\n",
    "ax = axs[0, 0]\n",
    "hb = ax.hexbin(pho4_rep1_preds, pho4_rep2_preds, gridsize=50, cmap='inferno')\n",
    "ax.set_title('Pho4 Rep 1 vs\\nPho4 Rep 2')\n",
    "cb = fig.colorbar(hb, ax=ax)\n",
    "cb.set_label('counts')\n",
    "\n",
    "ax = axs[0, 1]\n",
    "hb = ax.hexbin(pho4_rep1_preds, pho4_rep3_preds, gridsize=50, cmap='inferno')\n",
    "ax.set_title('Pho4 Rep 1 vs\\nPho4 Rep 3')\n",
    "cb = fig.colorbar(hb, ax=ax)\n",
    "cb.set_label('counts')\n",
    "\n",
    "ax = axs[0, 2]\n",
    "hb = ax.hexbin(pho4_rep1_preds, pho4_rep4_preds, gridsize=50, cmap='inferno')\n",
    "ax.set_title('Pho4 Rep 1 vs\\nPho4 Rep 4')\n",
    "cb = fig.colorbar(hb, ax=ax)\n",
    "cb.set_label('counts')\n",
    "\n",
    "ax = axs[0, 3]\n",
    "hb = ax.hexbin(pho4_rep2_preds, pho4_rep3_preds, gridsize=50, cmap='inferno')\n",
    "ax.set_title('Pho4 Rep 2 vs\\nPho4 Rep 3')\n",
    "cb = fig.colorbar(hb, ax=ax)\n",
    "cb.set_label('counts')\n",
    "\n",
    "ax = axs[0, 4]\n",
    "hb = ax.hexbin(pho4_rep2_preds, pho4_rep4_preds, gridsize=50, cmap='inferno')\n",
    "ax.set_title('Pho4 Rep 2 vs\\nPho4 Rep 4')\n",
    "cb = fig.colorbar(hb, ax=ax)\n",
    "cb.set_label('counts')\n",
    "\n",
    "ax = axs[0, 5]\n",
    "hb = ax.hexbin(pho4_rep3_preds, pho4_rep4_preds, gridsize=50, cmap='inferno')\n",
    "ax.set_title('Pho4 Rep 3 vs\\nPho4 Rep 4')\n",
    "cb = fig.colorbar(hb, ax=ax)\n",
    "cb.set_label('counts')\n",
    "\n",
    "ax = axs[1, 0]\n",
    "hb = ax.hexbin(cbf1_rep1_preds, cbf1_rep2_preds, gridsize=50, cmap='inferno')\n",
    "ax.set_title('Cbf1 Rep 1 vs\\nCbf1 Rep 2')\n",
    "cb = fig.colorbar(hb, ax=ax)\n",
    "cb.set_label('counts')\n",
    "\n",
    "ax = axs[1, 1]\n",
    "hb = ax.hexbin(cbf1_rep1_preds, cbf1_rep3_preds, gridsize=50, cmap='inferno')\n",
    "ax.set_title('Cbf1 Rep 1 vs\\nCbf1 Rep 3')\n",
    "cb = fig.colorbar(hb, ax=ax)\n",
    "cb.set_label('counts')\n",
    "\n",
    "ax = axs[1, 2]\n",
    "hb = ax.hexbin(cbf1_rep2_preds, cbf1_rep3_preds, gridsize=50, cmap='inferno')\n",
    "ax.set_title('Cbf1 Rep 2 vs\\nCbf1 Rep 3')\n",
    "cb = fig.colorbar(hb, ax=ax)\n",
    "cb.set_label('counts')\n",
    "\n",
    "plt.show()"
   ]
  },
  {
   "cell_type": "markdown",
   "metadata": {},
   "source": [
    "# Generate output dataset for all models"
   ]
  },
  {
   "cell_type": "code",
   "execution_count": null,
   "metadata": {
    "collapsed": false,
    "deletable": true,
    "editable": true,
    "scrolled": false
   },
   "outputs": [],
   "source": [
    "# Generate pandas dataframe with column names\n",
    "outdf = pd.DataFrame(columns=['flank',\n",
    "                              'Cbf1_rep1_ddG',\n",
    "                              'Cbf1_rep2_ddG',\n",
    "                              'Cbf1_rep3_ddG',\n",
    "                              'Cbf1_ddG',\n",
    "                              'Pho4_rep1_ddG',\n",
    "                              'Pho4_rep2_ddG',\n",
    "                              'Pho4_rep3_ddG',\n",
    "                              'Pho4_rep4_ddG',\n",
    "                              'Pho4_ddG'])\n",
    "\n",
    "# Fill in data\n",
    "outdf['flank'] = all_sequences\n",
    "outdf['Cbf1_rep1_ddG'] = cbf1_rep1_preds\n",
    "outdf['Cbf1_rep2_ddG'] = cbf1_rep2_preds\n",
    "outdf['Cbf1_rep3_ddG'] = cbf1_rep3_preds\n",
    "outdf['Cbf1_ddG'] = cbf1_preds\n",
    "outdf['Pho4_rep1_ddG'] = pho4_rep1_preds\n",
    "outdf['Pho4_rep2_ddG'] = pho4_rep2_preds\n",
    "outdf['Pho4_rep3_ddG'] = pho4_rep3_preds\n",
    "outdf['Pho4_rep4_ddG'] = pho4_rep4_preds\n",
    "outdf['Pho4_ddG'] = pho4_preds\n",
    "\n",
    "# Save output\n",
    "outdf.to_csv('./results/all_predicted_ddGs.csv', index=False)"
   ]
  },
  {
   "cell_type": "markdown",
   "metadata": {
    "collapsed": true,
    "deletable": true,
    "editable": true
   },
   "source": [
    "# Output only composite models"
   ]
  },
  {
   "cell_type": "code",
   "execution_count": null,
   "metadata": {
    "collapsed": true,
    "deletable": true,
    "editable": true
   },
   "outputs": [],
   "source": [
    "# Generate pandas dataframe with column names\n",
    "outdf = pd.DataFrame(columns=['flank',\n",
    "                              'Cbf1_ddG',\n",
    "                              'Pho4_ddG'])\n",
    "\n",
    "# Fill in data\n",
    "outdf['flank'] = all_sequences\n",
    "outdf['Cbf1_ddG'] = cbf1_preds\n",
    "outdf['Pho4_ddG'] = pho4_preds\n",
    "\n",
    "# Save output\n",
    "outdf.to_csv('./results/all_predicted_ddGs.csv', index=False)"
   ]
  }
 ],
 "metadata": {
  "kernelspec": {
   "display_name": "Python 3",
   "language": "python",
   "name": "python3"
  },
  "language_info": {
   "codemirror_mode": {
    "name": "ipython",
    "version": 3
   },
   "file_extension": ".py",
   "mimetype": "text/x-python",
   "name": "python",
   "nbconvert_exporter": "python",
   "pygments_lexer": "ipython3",
   "version": "3.6.3"
  }
 },
 "nbformat": 4,
 "nbformat_minor": 2
}
